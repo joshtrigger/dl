{
 "cells": [
  {
   "cell_type": "markdown",
   "id": "d360082c",
   "metadata": {},
   "source": [
    "#Udemy Data Analysis"
   ]
  },
  {
   "cell_type": "code",
   "execution_count": 2,
   "id": "535fe4c9",
   "metadata": {},
   "outputs": [],
   "source": [
    "import pandas as pd"
   ]
  },
  {
   "cell_type": "code",
   "execution_count": 3,
   "id": "e2ba799d",
   "metadata": {},
   "outputs": [],
   "source": [
    "pokemon = pd.read_csv('pokemon.csv', usecols = ['Pokemon']).squeeze('columns')"
   ]
  },
  {
   "cell_type": "code",
   "execution_count": 52,
   "id": "8c1dc249",
   "metadata": {},
   "outputs": [],
   "source": [
    "google = pd.read_csv('google_stock_price.csv').squeeze('columns')"
   ]
  },
  {
   "cell_type": "code",
   "execution_count": 5,
   "id": "97d5cc3c",
   "metadata": {},
   "outputs": [
    {
     "data": {
      "text/plain": [
       "0        50.12\n",
       "1        54.10\n",
       "2        54.65\n",
       "3        52.38\n",
       "4        52.95\n",
       "         ...  \n",
       "3007    772.88\n",
       "3008    771.07\n",
       "3009    773.18\n",
       "3010    771.61\n",
       "3011    782.22\n",
       "Name: Stock Price, Length: 3012, dtype: float64"
      ]
     },
     "execution_count": 5,
     "metadata": {},
     "output_type": "execute_result"
    }
   ],
   "source": [
    "google"
   ]
  },
  {
   "cell_type": "code",
   "execution_count": 6,
   "id": "1c298ece",
   "metadata": {
    "scrolled": true
   },
   "outputs": [
    {
     "data": {
      "text/plain": [
       "0    50.12\n",
       "1    54.10\n",
       "2    54.65\n",
       "3    52.38\n",
       "4    52.95\n",
       "Name: Stock Price, dtype: float64"
      ]
     },
     "execution_count": 6,
     "metadata": {},
     "output_type": "execute_result"
    }
   ],
   "source": [
    "google.head()"
   ]
  },
  {
   "cell_type": "code",
   "execution_count": 7,
   "id": "6d166997",
   "metadata": {},
   "outputs": [
    {
     "data": {
      "text/plain": [
       "array([ 50.12,  54.1 ,  54.65, ..., 773.18, 771.61, 782.22])"
      ]
     },
     "execution_count": 7,
     "metadata": {},
     "output_type": "execute_result"
    }
   ],
   "source": [
    "google.values"
   ]
  },
  {
   "cell_type": "code",
   "execution_count": 8,
   "id": "748e62ce",
   "metadata": {},
   "outputs": [
    {
     "data": {
      "text/plain": [
       "RangeIndex(start=0, stop=3012, step=1)"
      ]
     },
     "execution_count": 8,
     "metadata": {},
     "output_type": "execute_result"
    }
   ],
   "source": [
    "google.index"
   ]
  },
  {
   "cell_type": "code",
   "execution_count": 9,
   "id": "827b112d",
   "metadata": {},
   "outputs": [
    {
     "data": {
      "text/plain": [
       "'Stock Price'"
      ]
     },
     "execution_count": 9,
     "metadata": {},
     "output_type": "execute_result"
    }
   ],
   "source": [
    "google.name"
   ]
  },
  {
   "cell_type": "code",
   "execution_count": 10,
   "id": "ce46bb36",
   "metadata": {},
   "outputs": [
    {
     "data": {
      "text/plain": [
       "717      Zygarde\n",
       "633     Zweilous\n",
       "40         Zubat\n",
       "569        Zorua\n",
       "570      Zoroark\n",
       "         ...    \n",
       "680    Aegislash\n",
       "616     Accelgor\n",
       "358        Absol\n",
       "62          Abra\n",
       "459    Abomasnow\n",
       "Name: Pokemon, Length: 721, dtype: object"
      ]
     },
     "execution_count": 10,
     "metadata": {},
     "output_type": "execute_result"
    }
   ],
   "source": [
    "pokemon.sort_values(ascending = False)"
   ]
  },
  {
   "cell_type": "code",
   "execution_count": 11,
   "id": "4ddcd458",
   "metadata": {},
   "outputs": [
    {
     "data": {
      "text/plain": [
       "3007    772.88\n",
       "3008    771.07\n",
       "3009    773.18\n",
       "3010    771.61\n",
       "3011    782.22\n",
       "Name: Stock Price, dtype: float64"
      ]
     },
     "execution_count": 11,
     "metadata": {},
     "output_type": "execute_result"
    }
   ],
   "source": [
    "google.tail()"
   ]
  },
  {
   "cell_type": "code",
   "execution_count": 12,
   "id": "267d4833",
   "metadata": {},
   "outputs": [
    {
     "data": {
      "text/plain": [
       "0     Bulbasaur\n",
       "1       Ivysaur\n",
       "2      Venusaur\n",
       "3    Charmander\n",
       "4    Charmeleon\n",
       "Name: Pokemon, dtype: object"
      ]
     },
     "execution_count": 12,
     "metadata": {},
     "output_type": "execute_result"
    }
   ],
   "source": [
    "pokemon.head()"
   ]
  },
  {
   "cell_type": "code",
   "execution_count": 13,
   "id": "bd8be820",
   "metadata": {},
   "outputs": [],
   "source": [
    "pokemon.sort_index(inplace = True, ascending = False)"
   ]
  },
  {
   "cell_type": "code",
   "execution_count": 14,
   "id": "27265206",
   "metadata": {},
   "outputs": [
    {
     "data": {
      "text/plain": [
       "720     Volcanion\n",
       "719         Hoopa\n",
       "718       Diancie\n",
       "717       Zygarde\n",
       "716       Yveltal\n",
       "          ...    \n",
       "4      Charmeleon\n",
       "3      Charmander\n",
       "2        Venusaur\n",
       "1         Ivysaur\n",
       "0       Bulbasaur\n",
       "Name: Pokemon, Length: 721, dtype: object"
      ]
     },
     "execution_count": 14,
     "metadata": {},
     "output_type": "execute_result"
    }
   ],
   "source": [
    "pokemon"
   ]
  },
  {
   "cell_type": "code",
   "execution_count": 15,
   "id": "6f83ac2c",
   "metadata": {},
   "outputs": [
    {
     "data": {
      "text/plain": [
       "Int64Index([720, 719, 718, 717, 716, 715, 714, 713, 712, 711,\n",
       "            ...\n",
       "              9,   8,   7,   6,   5,   4,   3,   2,   1,   0],\n",
       "           dtype='int64', length=721)"
      ]
     },
     "execution_count": 15,
     "metadata": {},
     "output_type": "execute_result"
    }
   ],
   "source": [
    "pokemon.index"
   ]
  },
  {
   "cell_type": "code",
   "execution_count": 16,
   "id": "3c0d1b6a",
   "metadata": {},
   "outputs": [
    {
     "data": {
      "text/plain": [
       "True"
      ]
     },
     "execution_count": 16,
     "metadata": {},
     "output_type": "execute_result"
    }
   ],
   "source": [
    "'Hoopa' in pokemon.values"
   ]
  },
  {
   "cell_type": "code",
   "execution_count": 17,
   "id": "a261d20f",
   "metadata": {},
   "outputs": [
    {
     "data": {
      "text/plain": [
       "2      Venusaur\n",
       "34     Clefairy\n",
       "123        Jynx\n",
       "Name: Pokemon, dtype: object"
      ]
     },
     "execution_count": 17,
     "metadata": {},
     "output_type": "execute_result"
    }
   ],
   "source": [
    "pokemon[[2, 34, 123]]"
   ]
  },
  {
   "cell_type": "code",
   "execution_count": 33,
   "id": "e3a4ac3a",
   "metadata": {},
   "outputs": [
    {
     "data": {
      "text/plain": [
       "Fender Telecaster     Baby Blue\n",
       "Gibson Les Paul        Sunburst\n",
       "ESP Eclipse          Dark Green\n",
       "dtype: object"
      ]
     },
     "execution_count": 33,
     "metadata": {},
     "output_type": "execute_result"
    }
   ],
   "source": [
    "guitars_dict = {\n",
    "    \"Fender Telecaster\": \"Baby Blue\",\n",
    "    \"Gibson Les Paul\": \"Sunburst\",\n",
    "    \"ESP Eclipse\": \"Dark Green\"\n",
    "}\n",
    "\n",
    "guitars = pd.Series(guitars_dict)\n",
    "guitars"
   ]
  },
  {
   "cell_type": "code",
   "execution_count": 47,
   "id": "6707694e",
   "metadata": {},
   "outputs": [],
   "source": [
    "def classify(num):\n",
    "    if num < 300:\n",
    "        return \"Okay\"\n",
    "    else:\n",
    "        return 'Not Okay'"
   ]
  },
  {
   "cell_type": "code",
   "execution_count": 48,
   "id": "81f26adf",
   "metadata": {},
   "outputs": [
    {
     "data": {
      "text/plain": [
       "0           Okay\n",
       "1           Okay\n",
       "2           Okay\n",
       "3           Okay\n",
       "4           Okay\n",
       "          ...   \n",
       "3007    Not Okay\n",
       "3008    Not Okay\n",
       "3009    Not Okay\n",
       "3010    Not Okay\n",
       "3011    Not Okay\n",
       "Name: Stock Price, Length: 3012, dtype: object"
      ]
     },
     "execution_count": 48,
     "metadata": {},
     "output_type": "execute_result"
    }
   ],
   "source": [
    "google.apply(classify)"
   ]
  },
  {
   "cell_type": "code",
   "execution_count": 53,
   "id": "4b221bd9",
   "metadata": {},
   "outputs": [
    {
     "data": {
      "text/plain": [
       "0        $50.12\n",
       "1         $54.1\n",
       "2        $54.65\n",
       "3        $52.38\n",
       "4        $52.95\n",
       "         ...   \n",
       "3007    $772.88\n",
       "3008    $771.07\n",
       "3009    $773.18\n",
       "3010    $771.61\n",
       "3011    $782.22\n",
       "Name: Stock Price, Length: 3012, dtype: object"
      ]
     },
     "execution_count": 53,
     "metadata": {},
     "output_type": "execute_result"
    }
   ],
   "source": [
    "google.apply(lambda price: f'${price}')"
   ]
  },
  {
   "cell_type": "code",
   "execution_count": 54,
   "id": "d34147fe",
   "metadata": {},
   "outputs": [
    {
     "data": {
      "text/plain": [
       "{'Name': {0: 'Avery Bradley', 1: 'Jae Crowder', 2: 'John Holland'},\n",
       " 'Team': {0: 'Boston Celtics', 1: 'Boston Celtics', 2: 'Boston Celtics'},\n",
       " 'Number': {0: 0.0, 1: 99.0, 2: 30.0},\n",
       " 'Position': {0: 'PG', 1: 'SF', 2: 'SG'},\n",
       " 'Age': {0: 25.0, 1: 25.0, 2: 27.0},\n",
       " 'Height': {0: '6-2', 1: '6-6', 2: '6-5'},\n",
       " 'Weight': {0: 180.0, 1: 235.0, 2: 205.0},\n",
       " 'College': {0: 'Texas', 1: 'Marquette', 2: 'Boston University'},\n",
       " 'Salary': {0: 7730337.0, 1: 6796117.0, 2: nan}}"
      ]
     },
     "execution_count": 54,
     "metadata": {},
     "output_type": "execute_result"
    }
   ],
   "source": [
    "nba.head(3).to_dict()"
   ]
  },
  {
   "cell_type": "code",
   "execution_count": 73,
   "id": "7433fe96",
   "metadata": {},
   "outputs": [
    {
     "data": {
      "text/plain": [
       "0      $7730337.0\n",
       "1      $6796117.0\n",
       "2            None\n",
       "3      $1148640.0\n",
       "4      $5000000.0\n",
       "          ...    \n",
       "453    $2433333.0\n",
       "454     $900000.0\n",
       "455    $2900000.0\n",
       "456     $947276.0\n",
       "457          None\n",
       "Name: Salary, Length: 458, dtype: object"
      ]
     },
     "execution_count": 73,
     "metadata": {},
     "output_type": "execute_result"
    }
   ],
   "source": [
    "nba = pd.read_csv('nba.csv')\n",
    "\n",
    "\n",
    "def convert_to_usd(amount):\n",
    "    try:\n",
    "#         str_amt = str(amount)\n",
    "        if int(amount) or float(amount):\n",
    "            return f'${amount}'\n",
    "        return None\n",
    "    except:\n",
    "        return None\n",
    "\n",
    "nba['Salary'].apply(convert_to_usd)"
   ]
  },
  {
   "cell_type": "code",
   "execution_count": 75,
   "id": "01e27372",
   "metadata": {},
   "outputs": [
    {
     "data": {
      "text/plain": [
       "Name        {0: 'Avery Bradley', 1: 'Jae Crowder', 2: 'Joh...\n",
       "Team        {0: 'Boston Celtics', 1: 'Boston Celtics', 2: ...\n",
       "Number                             {0: 0.0, 1: 99.0, 2: 30.0}\n",
       "Position                          {0: 'PG', 1: 'SF', 2: 'SG'}\n",
       "Age                               {0: 25.0, 1: 25.0, 2: 27.0}\n",
       "Height                         {0: '6-2', 1: '6-6', 2: '6-5'}\n",
       "Weight                         {0: 180.0, 1: 235.0, 2: 205.0}\n",
       "College     {0: 'Texas', 1: 'Marquette', 2: 'Boston Univer...\n",
       "Salary                  {0: 7730337.0, 1: 6796117.0, 2: None}\n",
       "dtype: object"
      ]
     },
     "execution_count": 75,
     "metadata": {},
     "output_type": "execute_result"
    }
   ],
   "source": [
    "pd.Series({'Name': {0: 'Avery Bradley', 1: 'Jae Crowder', 2: 'John Holland'},\n",
    " 'Team': {0: 'Boston Celtics', 1: 'Boston Celtics', 2: 'Boston Celtics'},\n",
    " 'Number': {0: 0.0, 1: 99.0, 2: 30.0},\n",
    " 'Position': {0: 'PG', 1: 'SF', 2: 'SG'},\n",
    " 'Age': {0: 25.0, 1: 25.0, 2: 27.0},\n",
    " 'Height': {0: '6-2', 1: '6-6', 2: '6-5'},\n",
    " 'Weight': {0: 180.0, 1: 235.0, 2: 205.0},\n",
    " 'College': {0: 'Texas', 1: 'Marquette', 2: 'Boston University'},\n",
    " 'Salary': {0: 7730337.0, 1: 6796117.0, 2: None}})"
   ]
  }
 ],
 "metadata": {
  "kernelspec": {
   "display_name": "Python 3 (ipykernel)",
   "language": "python",
   "name": "python3"
  },
  "language_info": {
   "codemirror_mode": {
    "name": "ipython",
    "version": 3
   },
   "file_extension": ".py",
   "mimetype": "text/x-python",
   "name": "python",
   "nbconvert_exporter": "python",
   "pygments_lexer": "ipython3",
   "version": "3.10.4"
  }
 },
 "nbformat": 4,
 "nbformat_minor": 5
}
