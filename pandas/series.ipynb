{
 "cells": [
  {
   "cell_type": "code",
   "execution_count": 1,
   "id": "8b86e25e",
   "metadata": {},
   "outputs": [],
   "source": [
    "import pandas as pd"
   ]
  },
  {
   "cell_type": "code",
   "execution_count": 2,
   "id": "acf0f6e4",
   "metadata": {},
   "outputs": [
    {
     "data": {
      "text/plain": [
       "0          choc\n",
       "1       vanilla\n",
       "2    strawberry\n",
       "3           rum\n",
       "dtype: object"
      ]
     },
     "execution_count": 2,
     "metadata": {},
     "output_type": "execute_result"
    }
   ],
   "source": [
    "ice_cream = ['choc', 'vanilla', 'strawberry', 'rum']\n",
    "\n",
    "pd.Series(ice_cream)"
   ]
  },
  {
   "cell_type": "code",
   "execution_count": 3,
   "id": "768a2396",
   "metadata": {},
   "outputs": [
    {
     "data": {
      "text/plain": [
       "0     4\n",
       "1     8\n",
       "2    15\n",
       "3    34\n",
       "4    89\n",
       "5    90\n",
       "dtype: int64"
      ]
     },
     "execution_count": 3,
     "metadata": {},
     "output_type": "execute_result"
    }
   ],
   "source": [
    "lottery = [4, 8, 15, 34, 89, 90]\n",
    "\n",
    "pd.Series(lottery)"
   ]
  },
  {
   "cell_type": "code",
   "execution_count": 5,
   "id": "89be8e38",
   "metadata": {},
   "outputs": [],
   "source": [
    "webstar = dict(dog='An animal',banana='a fruit', cyan='A color')\n",
    "\n",
    "series = pd.Series(webstar)"
   ]
  },
  {
   "cell_type": "code",
   "execution_count": 6,
   "id": "77745beb",
   "metadata": {},
   "outputs": [
    {
     "data": {
      "text/plain": [
       "array(['An animal', 'a fruit', 'A color'], dtype=object)"
      ]
     },
     "execution_count": 6,
     "metadata": {},
     "output_type": "execute_result"
    }
   ],
   "source": [
    "series.values"
   ]
  },
  {
   "cell_type": "code",
   "execution_count": 7,
   "id": "c1d55e28",
   "metadata": {},
   "outputs": [
    {
     "data": {
      "text/plain": [
       "Index(['dog', 'banana', 'cyan'], dtype='object')"
      ]
     },
     "execution_count": 7,
     "metadata": {},
     "output_type": "execute_result"
    }
   ],
   "source": [
    "series.index"
   ]
  },
  {
   "cell_type": "code",
   "execution_count": 8,
   "id": "78514baa",
   "metadata": {},
   "outputs": [],
   "source": [
    "price = [1.99, 5.99, 9.99]\n",
    "series = pd.Series(price)"
   ]
  },
  {
   "cell_type": "code",
   "execution_count": 9,
   "id": "de066950",
   "metadata": {},
   "outputs": [
    {
     "data": {
      "text/plain": [
       "17.97"
      ]
     },
     "execution_count": 9,
     "metadata": {},
     "output_type": "execute_result"
    }
   ],
   "source": [
    "series.sum()"
   ]
  },
  {
   "cell_type": "code",
   "execution_count": 10,
   "id": "7fd1c3ca",
   "metadata": {},
   "outputs": [
    {
     "data": {
      "text/plain": [
       "119.081799"
      ]
     },
     "execution_count": 10,
     "metadata": {},
     "output_type": "execute_result"
    }
   ],
   "source": [
    "series.product()"
   ]
  },
  {
   "cell_type": "code",
   "execution_count": 11,
   "id": "721fac74",
   "metadata": {},
   "outputs": [
    {
     "data": {
      "text/plain": [
       "5.989999999999999"
      ]
     },
     "execution_count": 11,
     "metadata": {},
     "output_type": "execute_result"
    }
   ],
   "source": [
    "series.mean()"
   ]
  }
 ],
 "metadata": {
  "kernelspec": {
   "display_name": "Python 3 (ipykernel)",
   "language": "python",
   "name": "python3"
  },
  "language_info": {
   "codemirror_mode": {
    "name": "ipython",
    "version": 3
   },
   "file_extension": ".py",
   "mimetype": "text/x-python",
   "name": "python",
   "nbconvert_exporter": "python",
   "pygments_lexer": "ipython3",
   "version": "3.10.4"
  }
 },
 "nbformat": 4,
 "nbformat_minor": 5
}
